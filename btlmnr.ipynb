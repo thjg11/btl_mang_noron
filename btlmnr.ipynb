{
 "cells": [
  {
   "cell_type": "code",
   "execution_count": 1,
   "metadata": {},
   "outputs": [
    {
     "name": "stdout",
     "output_type": "stream",
     "text": [
      "(39209, 32, 32, 3) (39209,)\n",
      "(31367, 32, 32, 3) (7842, 32, 32, 3) (31367,) (7842,)\n"
     ]
    }
   ],
   "source": [
    "import numpy as np \n",
    "import pandas as pd \n",
    "import matplotlib.pyplot as plt\n",
    "import tensorflow as tf\n",
    "from PIL import Image\n",
    "import os\n",
    "from sklearn.model_selection import train_test_split\n",
    "from tensorflow.keras.utils import to_categorical\n",
    "from keras.models import Sequential,Model\n",
    "from keras.layers import Conv2D, MaxPool2D, Dense, Flatten, Dropout,Input\n",
    "\n",
    "X = []\n",
    "y = []\n",
    "classes = 43\n",
    "cur_path = 'D:\\BTL'\n",
    "\n",
    "#Truy xuất hình ảnh và giá trị của chúng\n",
    "for i in range(classes):\n",
    "    path = os.path.join(cur_path,'train',str(i))\n",
    "    images = os.listdir(path)\n",
    "\n",
    "    for a in images:\n",
    "        try:\n",
    "            image = Image.open(path + '\\\\'+ a)\n",
    "            image = image.resize((32,32))\n",
    "            image = np.array(image)\n",
    "            #sim = Image.fromarray(image)\n",
    "            X.append(image)\n",
    "            y.append(i)\n",
    "        except:\n",
    "            print(\"Error loading image\")\n",
    "\n",
    "#Chuyển đổi danh sách thành mảng numpy\n",
    "X = np.array(X)\n",
    "y = np.array(y)\n",
    "\n",
    "print(X.shape, y.shape)\n",
    "\n",
    "#Tách tập dữ liệu đào tạo và thử nghiệm\n",
    "X_train, X_test, y_train, y_test = train_test_split(X, y, test_size=0.2, random_state=0)\n",
    "print(X_train.shape, X_test.shape, y_train.shape, y_test.shape)"
   ]
  },
  {
   "cell_type": "code",
   "execution_count": 2,
   "metadata": {},
   "outputs": [],
   "source": [
    "#onehot-encoding\n",
    "y_train = to_categorical(y_train, 43)\n",
    "y_test = to_categorical(y_test, 43)"
   ]
  },
  {
   "cell_type": "code",
   "execution_count": 3,
   "metadata": {},
   "outputs": [
    {
     "name": "stdout",
     "output_type": "stream",
     "text": [
      "Model: \"sequential\"\n",
      "_________________________________________________________________\n",
      "Layer (type)                 Output Shape              Param #   \n",
      "=================================================================\n",
      "conv2d (Conv2D)              (None, 28, 28, 32)        2432      \n",
      "_________________________________________________________________\n",
      "conv2d_1 (Conv2D)            (None, 24, 24, 32)        25632     \n",
      "_________________________________________________________________\n",
      "max_pooling2d (MaxPooling2D) (None, 12, 12, 32)        0         \n",
      "_________________________________________________________________\n",
      "dropout (Dropout)            (None, 12, 12, 32)        0         \n",
      "_________________________________________________________________\n",
      "conv2d_2 (Conv2D)            (None, 10, 10, 64)        18496     \n",
      "_________________________________________________________________\n",
      "conv2d_3 (Conv2D)            (None, 8, 8, 64)          36928     \n",
      "_________________________________________________________________\n",
      "max_pooling2d_1 (MaxPooling2 (None, 4, 4, 64)          0         \n",
      "_________________________________________________________________\n",
      "dropout_1 (Dropout)          (None, 4, 4, 64)          0         \n",
      "_________________________________________________________________\n",
      "flatten (Flatten)            (None, 1024)              0         \n",
      "_________________________________________________________________\n",
      "dense (Dense)                (None, 256)               262400    \n",
      "_________________________________________________________________\n",
      "dropout_2 (Dropout)          (None, 256)               0         \n",
      "_________________________________________________________________\n",
      "dense_1 (Dense)              (None, 43)                11051     \n",
      "=================================================================\n",
      "Total params: 356,939\n",
      "Trainable params: 356,939\n",
      "Non-trainable params: 0\n",
      "_________________________________________________________________\n"
     ]
    }
   ],
   "source": [
    "#Xây dựng model\n",
    "\n",
    "model = Sequential()\n",
    "model.add(Conv2D(filters=32, kernel_size=(5,5), activation='relu', input_shape=X_train.shape[1:]))\n",
    "model.add(Conv2D(filters=32, kernel_size=(5,5), activation='relu'))\n",
    "model.add(MaxPool2D(pool_size=(2, 2)))\n",
    "model.add(Dropout(rate=0.25))\n",
    "model.add(Conv2D(filters=64, kernel_size=(3, 3), activation='relu'))\n",
    "model.add(Conv2D(filters=64, kernel_size=(3, 3), activation='relu'))\n",
    "model.add(MaxPool2D(pool_size=(2, 2)))\n",
    "model.add(Dropout(rate=0.25))\n",
    "model.add(Flatten())\n",
    "model.add(Dense(256, activation='relu'))\n",
    "model.add(Dropout(rate=0.5))\n",
    "model.add(Dense(43, activation='softmax'))\n",
    "\n",
    "\n",
    "model.compile(loss='categorical_crossentropy', optimizer='adam', metrics=['accuracy'])\n",
    "model.summary()"
   ]
  },
  {
   "cell_type": "code",
   "execution_count": 4,
   "metadata": {},
   "outputs": [
    {
     "name": "stdout",
     "output_type": "stream",
     "text": [
      "Epoch 1/10\n",
      "491/491 [==============================] - 151s 306ms/step - loss: 4.3495 - accuracy: 0.2053 - val_loss: 0.9202 - val_accuracy: 0.7665\n",
      "Epoch 2/10\n",
      "491/491 [==============================] - 145s 295ms/step - loss: 1.0936 - accuracy: 0.6711 - val_loss: 0.3680 - val_accuracy: 0.9111\n",
      "Epoch 3/10\n",
      "491/491 [==============================] - 142s 290ms/step - loss: 0.7086 - accuracy: 0.7828 - val_loss: 0.3891 - val_accuracy: 0.8931\n",
      "Epoch 4/10\n",
      "491/491 [==============================] - 135s 275ms/step - loss: 0.5335 - accuracy: 0.8371 - val_loss: 0.2922 - val_accuracy: 0.9235\n",
      "Epoch 5/10\n",
      "491/491 [==============================] - 130s 265ms/step - loss: 0.4073 - accuracy: 0.8762 - val_loss: 0.1413 - val_accuracy: 0.9637\n",
      "Epoch 6/10\n",
      "491/491 [==============================] - 138s 281ms/step - loss: 0.3470 - accuracy: 0.8948 - val_loss: 0.1351 - val_accuracy: 0.9600\n",
      "Epoch 7/10\n",
      "491/491 [==============================] - 140s 284ms/step - loss: 0.3079 - accuracy: 0.9079 - val_loss: 0.0941 - val_accuracy: 0.9745\n",
      "Epoch 8/10\n",
      "491/491 [==============================] - 140s 286ms/step - loss: 0.2481 - accuracy: 0.9256 - val_loss: 0.0863 - val_accuracy: 0.9740\n",
      "Epoch 9/10\n",
      "491/491 [==============================] - 137s 278ms/step - loss: 0.2164 - accuracy: 0.9331 - val_loss: 0.1048 - val_accuracy: 0.9711\n",
      "Epoch 10/10\n",
      "491/491 [==============================] - 140s 286ms/step - loss: 0.2242 - accuracy: 0.9313 - val_loss: 0.0717 - val_accuracy: 0.9793\n"
     ]
    }
   ],
   "source": [
    "#Đào tạo model \n",
    "epochs = 10\n",
    "history = model.fit(X_train, y_train, batch_size=64, epochs=epochs, validation_data=(X_test, y_test))"
   ]
  },
  {
   "cell_type": "code",
   "execution_count": 7,
   "metadata": {},
   "outputs": [
    {
     "name": "stdout",
     "output_type": "stream",
     "text": [
      "0.9413301662707838\n"
     ]
    }
   ],
   "source": [
    "#kiểm tra độ chính xác trên bộ dữ liệu thử nghiệm\n",
    "from sklearn.metrics import accuracy_score\n",
    "\n",
    "y_test = pd.read_csv('D:/BTL/Test.csv')\n",
    "\n",
    "y_true = y_test[\"ClassId\"].values\n",
    "imgs = y_test[\"Path\"].values\n",
    "\n",
    "data=[]\n",
    "\n",
    "for img in imgs:\n",
    "    image = Image.open(img)\n",
    "    image = image.resize((32,32))\n",
    "    data.append(np.array(image))\n",
    "\n",
    "X_test=np.array(data)\n",
    "\n",
    "y_pred = model.predict_classes(X_test)\n",
    "\n",
    "#Accuracy with the test data\n",
    "from sklearn.metrics import accuracy_score\n",
    "print(accuracy_score(y_true, y_pred))"
   ]
  },
  {
   "cell_type": "code",
   "execution_count": null,
   "metadata": {},
   "outputs": [],
   "source": []
  }
 ],
 "metadata": {
  "kernelspec": {
   "display_name": "Python 3",
   "language": "python",
   "name": "python3"
  },
  "language_info": {
   "codemirror_mode": {
    "name": "ipython",
    "version": 3
   },
   "file_extension": ".py",
   "mimetype": "text/x-python",
   "name": "python",
   "nbconvert_exporter": "python",
   "pygments_lexer": "ipython3",
   "version": "3.8.5"
  }
 },
 "nbformat": 4,
 "nbformat_minor": 4
}
